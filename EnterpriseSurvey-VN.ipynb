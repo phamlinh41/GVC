{
 "cells": [
  {
   "cell_type": "code",
   "execution_count": 1,
   "metadata": {},
   "outputs": [],
   "source": [
    "import pandas as pd\n",
    "import numpy as np\n",
    "import matplotlib.pyplot as plt"
   ]
  },
  {
   "cell_type": "code",
   "execution_count": 3,
   "metadata": {},
   "outputs": [],
   "source": [
    "df=pd.read_stata('C:/Users/Administrator/Downloads/Vietnam-2015-GVC.dta')"
   ]
  },
  {
   "cell_type": "code",
   "execution_count": 4,
   "metadata": {},
   "outputs": [
    {
     "data": {
      "text/html": [
       "<div>\n",
       "<style scoped>\n",
       "    .dataframe tbody tr th:only-of-type {\n",
       "        vertical-align: middle;\n",
       "    }\n",
       "\n",
       "    .dataframe tbody tr th {\n",
       "        vertical-align: top;\n",
       "    }\n",
       "\n",
       "    .dataframe thead th {\n",
       "        text-align: right;\n",
       "    }\n",
       "</style>\n",
       "<table border=\"1\" class=\"dataframe\">\n",
       "  <thead>\n",
       "    <tr style=\"text-align: right;\">\n",
       "      <th></th>\n",
       "      <th>GVC</th>\n",
       "      <th>FirmizeA6B</th>\n",
       "      <th>TotalSalesD2</th>\n",
       "      <th>FemaleManagerB7a</th>\n",
       "      <th>FemaleEmployee</th>\n",
       "      <th>SkillesFemale</th>\n",
       "      <th>SkillIntensityL4</th>\n",
       "      <th>FirmAge</th>\n",
       "      <th>NewProductH1</th>\n",
       "      <th>Region</th>\n",
       "      <th>Sector</th>\n",
       "    </tr>\n",
       "  </thead>\n",
       "  <tbody>\n",
       "    <tr>\n",
       "      <th>0</th>\n",
       "      <td>3.0</td>\n",
       "      <td>3.0</td>\n",
       "      <td>8.999999e+09</td>\n",
       "      <td>2.0</td>\n",
       "      <td>0.809091</td>\n",
       "      <td>0.745455</td>\n",
       "      <td>0.909091</td>\n",
       "      <td>6.0</td>\n",
       "      <td>1.0</td>\n",
       "      <td>South East</td>\n",
       "      <td>15</td>\n",
       "    </tr>\n",
       "    <tr>\n",
       "      <th>1</th>\n",
       "      <td>0.0</td>\n",
       "      <td>2.0</td>\n",
       "      <td>4.200000e+09</td>\n",
       "      <td>2.0</td>\n",
       "      <td>0.457143</td>\n",
       "      <td>0.457143</td>\n",
       "      <td>0.828571</td>\n",
       "      <td>35.0</td>\n",
       "      <td>2.0</td>\n",
       "      <td>South East</td>\n",
       "      <td>15</td>\n",
       "    </tr>\n",
       "    <tr>\n",
       "      <th>2</th>\n",
       "      <td>0.0</td>\n",
       "      <td>3.0</td>\n",
       "      <td>1.400000e+11</td>\n",
       "      <td>2.0</td>\n",
       "      <td>0.203125</td>\n",
       "      <td>0.037500</td>\n",
       "      <td>0.203125</td>\n",
       "      <td>25.0</td>\n",
       "      <td>1.0</td>\n",
       "      <td>North Central area and Central coastal area</td>\n",
       "      <td>15</td>\n",
       "    </tr>\n",
       "    <tr>\n",
       "      <th>3</th>\n",
       "      <td>0.0</td>\n",
       "      <td>1.0</td>\n",
       "      <td>1.500000e+08</td>\n",
       "      <td>2.0</td>\n",
       "      <td>0.083333</td>\n",
       "      <td>0.083333</td>\n",
       "      <td>1.000000</td>\n",
       "      <td>4.0</td>\n",
       "      <td>2.0</td>\n",
       "      <td>South East</td>\n",
       "      <td>15</td>\n",
       "    </tr>\n",
       "    <tr>\n",
       "      <th>4</th>\n",
       "      <td>0.0</td>\n",
       "      <td>1.0</td>\n",
       "      <td>5.000000e+10</td>\n",
       "      <td>1.0</td>\n",
       "      <td>0.200000</td>\n",
       "      <td>0.200000</td>\n",
       "      <td>1.000000</td>\n",
       "      <td>14.0</td>\n",
       "      <td>1.0</td>\n",
       "      <td>South East</td>\n",
       "      <td>17</td>\n",
       "    </tr>\n",
       "  </tbody>\n",
       "</table>\n",
       "</div>"
      ],
      "text/plain": [
       "   GVC  FirmizeA6B  TotalSalesD2  FemaleManagerB7a  FemaleEmployee  \\\n",
       "0  3.0         3.0  8.999999e+09               2.0        0.809091   \n",
       "1  0.0         2.0  4.200000e+09               2.0        0.457143   \n",
       "2  0.0         3.0  1.400000e+11               2.0        0.203125   \n",
       "3  0.0         1.0  1.500000e+08               2.0        0.083333   \n",
       "4  0.0         1.0  5.000000e+10               1.0        0.200000   \n",
       "\n",
       "   SkillesFemale  SkillIntensityL4  FirmAge  NewProductH1  \\\n",
       "0       0.745455          0.909091      6.0           1.0   \n",
       "1       0.457143          0.828571     35.0           2.0   \n",
       "2       0.037500          0.203125     25.0           1.0   \n",
       "3       0.083333          1.000000      4.0           2.0   \n",
       "4       0.200000          1.000000     14.0           1.0   \n",
       "\n",
       "                                        Region Sector  \n",
       "0                                   South East     15  \n",
       "1                                   South East     15  \n",
       "2  North Central area and Central coastal area     15  \n",
       "3                                   South East     15  \n",
       "4                                   South East     17  "
      ]
     },
     "execution_count": 4,
     "metadata": {},
     "output_type": "execute_result"
    }
   ],
   "source": [
    "df.head()"
   ]
  },
  {
   "cell_type": "code",
   "execution_count": null,
   "metadata": {},
   "outputs": [],
   "source": [
    "df.describe()\n",
    "#GVC: 0 (Firm uses domestic inputs for domestic sales), 1 (Firm uses domestic inputs for exports),2 (Firm uses imported inputs for domestic sales), 3(Firm uses imported inputs for exports)- Dollar et al.(2016)\n",
    "#Firm size: 1: Small, 2: Medium, 3: Large (based on number of employees)\n",
    "# FemaleManager: 1: Yes, 2: No\n",
    "# FemaleEmployee: Percentage of female permanent fulltime employee\n",
    "#SkilledFemale: Percentage of skilled female employee\n",
    "#SkillIntensity:Percentage of skilled employee\n",
    "#New Product (Technomogy): 1: Yes, 2: No\n",
    "#TotalSales (Performance)"
   ]
  },
  {
   "cell_type": "code",
   "execution_count": 7,
   "metadata": {},
   "outputs": [],
   "source": [
    "g=df['GVC']"
   ]
  },
  {
   "cell_type": "code",
   "execution_count": 8,
   "metadata": {},
   "outputs": [],
   "source": [
    "employee=df['FemaleEmployee']"
   ]
  },
  {
   "cell_type": "code",
   "execution_count": 16,
   "metadata": {},
   "outputs": [
    {
     "data": {
      "image/png": "[encoded data removed]",
      "text/plain": [
       "<Figure size 432x288 with 1 Axes>"
      ]
     },
     "metadata": {
      "needs_background": "light"
     },
     "output_type": "display_data"
    }
   ],
   "source": [
    "plt.hist([g, employee])\n",
    "plt.show()"
   ]
  },
  {
   "cell_type": "code",
   "execution_count": null,
   "metadata": {},
   "outputs": [],
   "source": []
  }
 ],
 "metadata": {
  "kernelspec": {
   "display_name": "Python 3",
   "language": "python",
   "name": "python3"
  },
  "language_info": {
   "codemirror_mode": {
    "name": "ipython",
    "version": 3
   },
   "file_extension": ".py",
   "mimetype": "text/x-python",
   "name": "python",
   "nbconvert_exporter": "python",
   "pygments_lexer": "ipython3",
   "version": "3.7.1"
  }
 },
 "nbformat": 4,
 "nbformat_minor": 2
}
