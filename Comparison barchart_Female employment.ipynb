{
 "cells": [
  {
   "cell_type": "code",
   "execution_count": 1,
   "metadata": {},
   "outputs": [],
   "source": [
    "import pandas as pd"
   ]
  },
  {
   "cell_type": "code",
   "execution_count": 142,
   "metadata": {},
   "outputs": [
    {
     "data": {
      "text/html": [
       "<div>\n",
       "<style scoped>\n",
       "    .dataframe tbody tr th:only-of-type {\n",
       "        vertical-align: middle;\n",
       "    }\n",
       "\n",
       "    .dataframe tbody tr th {\n",
       "        vertical-align: top;\n",
       "    }\n",
       "\n",
       "    .dataframe thead th {\n",
       "        text-align: right;\n",
       "    }\n",
       "</style>\n",
       "<table border=\"1\" class=\"dataframe\">\n",
       "  <thead>\n",
       "    <tr style=\"text-align: right;\">\n",
       "      <th></th>\n",
       "      <th>Zero</th>\n",
       "      <th>Single</th>\n",
       "      <th>Du</th>\n",
       "      <th>Triple</th>\n",
       "    </tr>\n",
       "    <tr>\n",
       "      <th>Year</th>\n",
       "      <th></th>\n",
       "      <th></th>\n",
       "      <th></th>\n",
       "      <th></th>\n",
       "    </tr>\n",
       "  </thead>\n",
       "  <tbody>\n",
       "    <tr>\n",
       "      <th>2010</th>\n",
       "      <td>0.364569</td>\n",
       "      <td>0.466055</td>\n",
       "      <td>0.466055</td>\n",
       "      <td>0.384309</td>\n",
       "    </tr>\n",
       "    <tr>\n",
       "      <th>2012</th>\n",
       "      <td>0.384163</td>\n",
       "      <td>0.473437</td>\n",
       "      <td>0.521806</td>\n",
       "      <td>0.414285</td>\n",
       "    </tr>\n",
       "    <tr>\n",
       "      <th>2014</th>\n",
       "      <td>0.369996</td>\n",
       "      <td>0.434901</td>\n",
       "      <td>0.494358</td>\n",
       "      <td>0.364723</td>\n",
       "    </tr>\n",
       "  </tbody>\n",
       "</table>\n",
       "</div>"
      ],
      "text/plain": [
       "          Zero    Single        Du    Triple\n",
       "Year                                        \n",
       "2010  0.364569  0.466055  0.466055  0.384309\n",
       "2012  0.384163  0.473437  0.521806  0.414285\n",
       "2014  0.369996  0.434901  0.494358  0.364723"
      ]
     },
     "execution_count": 142,
     "metadata": {},
     "output_type": "execute_result"
    }
   ],
   "source": [
    "df = pd.read_excel('D:/Mean female employment by GVC.xlsx',index_col=0)\n",
    "df.head(5)\n",
    "#Figures on this file are calculated from Stata for mean of female employment by GVC and year\n",
    ". collapse Female_Employment , by(year GVC_MODE )\n",
    "\n",
    ". list , sepby(year)\n"
   ]
  },
  {
   "cell_type": "code",
   "execution_count": 132,
   "metadata": {},
   "outputs": [],
   "source": [
    "import random\n",
    "import pandas as pd\n",
    "import numpy as np\n",
    "import matplotlib.pyplot as plt\n",
    "import matplotlib.patches as mpatches\n"
   ]
  },
  {
   "cell_type": "code",
   "execution_count": 189,
   "metadata": {},
   "outputs": [],
   "source": [
    "ZERO = df['Zero']\n",
    "SINGLE = df['Single']\n",
    "DUAL = df['Du']\n",
    "TRIPLE = df['Triple']\n",
    "index = np.arange(len(ZERO))\n",
    "bar_width = 0.15"
   ]
  },
  {
   "cell_type": "code",
   "execution_count": 195,
   "metadata": {},
   "outputs": [
    {
     "data": {
      "image/png": "[encoded data removed]",
      "text/plain": [
       "<Figure size 432x288 with 1 Axes>"
      ]
     },
     "metadata": {
      "needs_background": "light"
     },
     "output_type": "display_data"
    }
   ],
   "source": [
    "plt.bar(index, ZERO, width=bar_width, color='b', zorder=2)\n",
    "plt.bar(index + bar_width*2, DUAL, width=bar_width, color='y', zorder=2)\n",
    "plt.bar(index + bar_width*3, TRIPLE, width=bar_width, color='r',zorder=2)\n",
    "plt.bar(index + bar_width, SINGLE, width=bar_width, color='g', zorder=2)\n",
    "plt.xticks(index + bar_width,['2010', '2012', '2014'] )\n",
    "plt.ylabel('Female Employment')\n",
    "blue_patch=mpatches.Patch(color='b', label='ZERO')\n",
    "green_patch=mpatches.Patch(color='g', label='SINGLE')\n",
    "yello_patch=mpatches.Patch(color='y', label='DUAL')\n",
    "red_patch=mpatches.Patch(color='r', label='TRIPLE')\n",
    "plt.grid(axis='y')\n",
    "plt.show()"
   ]
  },
  {
   "cell_type": "code",
   "execution_count": 191,
   "metadata": {},
   "outputs": [
    {
     "data": {
      "image/png": "[encoded data removed]",
      "text/plain": [
       "<Figure size 432x288 with 1 Axes>"
      ]
     },
     "metadata": {
      "needs_background": "light"
     },
     "output_type": "display_data"
    }
   ],
   "source": [
    "plt.bar(index, ZERO, width=bar_width, color='b', zorder=2)\n",
    "plt.bar(index + bar_width*2, DUAL, width=bar_width, color='y', zorder=2)\n",
    "plt.bar(index + bar_width*3, TRIPLE, width=bar_width, color='r',zorder=2)\n",
    "plt.bar(index + bar_width, SINGLE, width=bar_width, color='g', zorder=2)\n",
    "plt.xticks(index + bar_width,['2010', '2012', '2014'] )\n",
    "plt.ylabel('Female Employment')\n",
    "plt.title('Female Employment by GVC Mode')\n",
    "blue_patch=mpatches.Patch(color='b', label='ZERO')\n",
    "green_patch=mpatches.Patch(color='g', label='SINGLE')\n",
    "yello_patch=mpatches.Patch(color='y', label='DUAL')\n",
    "red_patch=mpatches.Patch(color='r', label='TRIPLE')\n",
    "plt.legend(handles=[blue_patch, green_patch, yello_patch, red_patch], loc=\"best\")\n",
    "plt.grid(axis='y')\n",
    "plt.show()"
   ]
  },
  {
   "cell_type": "code",
   "execution_count": null,
   "metadata": {},
   "outputs": [],
   "source": []
  }
 ],
 "metadata": {
  "kernelspec": {
   "display_name": "Python 3",
   "language": "python",
   "name": "python3"
  },
  "language_info": {
   "codemirror_mode": {
    "name": "ipython",
    "version": 3
   },
   "file_extension": ".py",
   "mimetype": "text/x-python",
   "name": "python",
   "nbconvert_exporter": "python",
   "pygments_lexer": "ipython3",
   "version": "3.7.3"
  }
 },
 "nbformat": 4,
 "nbformat_minor": 2
}
